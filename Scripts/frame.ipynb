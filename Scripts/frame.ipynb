{
  "nbformat": 4,
  "nbformat_minor": 0,
  "metadata": {
    "colab": {
      "name": "frame.ipynb",
      "provenance": []
    },
    "kernelspec": {
      "name": "python3",
      "display_name": "Python 3"
    }
  },
  "cells": [
    {
      "cell_type": "markdown",
      "metadata": {
        "id": "wrf5L6AiDuyK"
      },
      "source": [
        "Input: video files\r\n"
      ]
    },
    {
      "cell_type": "markdown",
      "metadata": {
        "id": "PUVnlzsLESHW"
      },
      "source": [
        "Output: \r\n",
        "  - Frame applied hann window\r\n",
        "  - Label of sound or silence in each frame\r\n"
      ]
    },
    {
      "cell_type": "markdown",
      "metadata": {
        "id": "1Pb49tfsETew"
      },
      "source": [
        "Parameters:\r\n",
        "  - Window length = 30 ms\r\n",
        "  - Hop_len / win_length = 1/4"
      ]
    },
    {
      "cell_type": "code",
      "metadata": {
        "colab": {
          "base_uri": "https://localhost:8080/"
        },
        "id": "i41O-Zv4Artm",
        "outputId": "9216d9dd-85be-4220-81b6-9b501ef1afe9"
      },
      "source": [
        "!pip install webrtcvad\r\n",
        "import librosa\r\n",
        "import pandas as pd\r\n",
        "import numpy as np\r\n",
        "import librosa.display\r\n",
        "import matplotlib.pyplot as plt\r\n",
        "from scipy.signal import get_window\r\n",
        "import librosa.display\r\n",
        "import os\r\n",
        "import webrtcvad\r\n",
        "import csv"
      ],
      "execution_count": 1,
      "outputs": [
        {
          "output_type": "stream",
          "text": [
            "Collecting webrtcvad\n",
            "\u001b[?25l  Downloading https://files.pythonhosted.org/packages/89/34/e2de2d97f3288512b9ea56f92e7452f8207eb5a0096500badf9dfd48f5e6/webrtcvad-2.0.10.tar.gz (66kB)\n",
            "\r\u001b[K     |█████                           | 10kB 14.4MB/s eta 0:00:01\r\u001b[K     |██████████                      | 20kB 20.7MB/s eta 0:00:01\r\u001b[K     |██████████████▉                 | 30kB 20.6MB/s eta 0:00:01\r\u001b[K     |███████████████████▉            | 40kB 16.0MB/s eta 0:00:01\r\u001b[K     |████████████████████████▊       | 51kB 17.4MB/s eta 0:00:01\r\u001b[K     |█████████████████████████████▊  | 61kB 19.7MB/s eta 0:00:01\r\u001b[K     |████████████████████████████████| 71kB 4.4MB/s \n",
            "\u001b[?25hBuilding wheels for collected packages: webrtcvad\n",
            "  Building wheel for webrtcvad (setup.py) ... \u001b[?25l\u001b[?25hdone\n",
            "  Created wheel for webrtcvad: filename=webrtcvad-2.0.10-cp37-cp37m-linux_x86_64.whl size=72340 sha256=a0ce09dc0f907c01855cf57616a2e79b42e0128df13108febafb34bbe12d6258\n",
            "  Stored in directory: /root/.cache/pip/wheels/44/2a/18/bd1aec41cac7c3051fe95d92a6ed446122ea31dc713c432fa1\n",
            "Successfully built webrtcvad\n",
            "Installing collected packages: webrtcvad\n",
            "Successfully installed webrtcvad-2.0.10\n"
          ],
          "name": "stdout"
        }
      ]
    },
    {
      "cell_type": "code",
      "metadata": {
        "id": "EbgSIVAuAv43"
      },
      "source": [
        "def window_frame(y, n_fft, hop_length, win_length, window='hann'):\r\n",
        "  # Set default length\r\n",
        "  if win_length is None:\r\n",
        "      win_length = n_fft\r\n",
        "  # Set the default hop, if it's not already specified\r\n",
        "  if hop_length is None:\r\n",
        "      hop_length = win_length\r\n",
        "  fft_window = librosa.filters.get_window(window, win_length, fftbins=True)\r\n",
        "  # Pad the window out to n_fft size\r\n",
        "  fft_window = librosa.util.pad_center(fft_window, n_fft)\r\n",
        "  # Reshape so that the window can be broadcast\r\n",
        "  fft_window = fft_window.reshape((-1, 1))\r\n",
        "  # Pad the time series so that frames are centered\r\n",
        "  y = np.pad(y, int(n_fft // 2), mode='reflect')\r\n",
        "  # Window the time series.\r\n",
        "  y_frames = librosa.util.frame(y, frame_length=n_fft, hop_length=hop_length)\r\n",
        "  windowed_frames = (y_frames * fft_window).T\r\n",
        "  return windowed_frames"
      ],
      "execution_count": 3,
      "outputs": []
    },
    {
      "cell_type": "code",
      "metadata": {
        "id": "uqYPral-BAQx"
      },
      "source": [
        "path = \"/content/train_files\"\r\n",
        "Y = []\r\n",
        "Win_len = []\r\n",
        "frame_dur = 0.03\r\n",
        "hop_len_per=0.25\r\n",
        "col_frames = os.listdir(path)\r\n",
        "for frame in col_frames:\r\n",
        "  y, sr = librosa.load(path + \"/\" + str(frame), sr = 16000)\r\n",
        "  #y_shape = y.shape[0]\r\n",
        "  #duration = y_shape/sr\r\n",
        "  win_len = (int)(sr*frame_dur)\r\n",
        "  Y.append(y)\r\n",
        "  Win_len.append(win_len)"
      ],
      "execution_count": null,
      "outputs": []
    },
    {
      "cell_type": "code",
      "metadata": {
        "id": "9O1f8cFfCy_C"
      },
      "source": [
        "Frame = []\r\n",
        "for y, win_len in zip(Y, Win_len):\r\n",
        "  temp_frames = window_frame(y, win_len, int(win_len*hop_len_per), win_len, 'hann')\r\n",
        "  Frame.extend(temp_frames)\r\n",
        "np.savetxt(\"hann_frame_environment.csv\", Frame, delimiter=\",\")"
      ],
      "execution_count": null,
      "outputs": []
    },
    {
      "cell_type": "code",
      "metadata": {
        "id": "bWRQ2DlOC3s5"
      },
      "source": [
        "vad = webrtcvad.Vad(3)\r\n",
        "Labely3 = []\r\n",
        "SR = 16000\r\n",
        "for fra in Frame:\r\n",
        "    #fr = b'\\x00\\x00' * int(SR * frame_dur / 1000)\r\n",
        "    fr = np.int16(fra * 32768).tobytes() #change float to bytes\r\n",
        "    #fr = np.int16(2*100*16).tobytes() #change float to bytes\r\n",
        "    is_Speech = vad.is_speech(fr, SR)\r\n",
        "    if (is_Speech):\r\n",
        "      #print('1')\r\n",
        "      Labely3.append(1)\r\n",
        "    else:\r\n",
        "      #print('0')\r\n",
        "      Labely3.append(0)\r\n",
        "#np.savetxt(\"label_y_100files.csv\", Labely3, delimiter=\",\")"
      ],
      "execution_count": null,
      "outputs": []
    },
    {
      "cell_type": "code",
      "metadata": {
        "id": "0K4KjtRGC7Dg"
      },
      "source": [
        "with open('Label_Environment.csv', 'w') as f:\r\n",
        "    for i in Labely3:\r\n",
        "        f.write('%d \\n' % i)"
      ],
      "execution_count": null,
      "outputs": []
    },
    {
      "cell_type": "code",
      "metadata": {
        "id": "3njP-e5ZCrNY"
      },
      "source": [
        "print(\"Number of file: \", len(Y))\r\n",
        "print(\"Win len example: \", Win_len[0])\r\n",
        "print(\"Len of Frame: \", len(Frame))\r\n",
        "print(\"Len of label list: \", len(Labely3))"
      ],
      "execution_count": null,
      "outputs": []
    }
  ]
}